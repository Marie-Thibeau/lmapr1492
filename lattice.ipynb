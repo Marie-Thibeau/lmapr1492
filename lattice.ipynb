{
 "cells": [
  {
   "cell_type": "code",
   "execution_count": 1,
   "metadata": {},
   "outputs": [],
   "source": [
    "from pymatgen.ext.matproj import MPRester\n",
    "from pymatgen.symmetry.analyzer import SpacegroupAnalyzer\n",
    "\n",
    "with MPRester(\"qpcDzlSRWPfs7J19\") as m:\n",
    "\n",
    "    struct = m.get_structure_by_material_id(\"mp-570259\")"
   ]
  },
  {
   "cell_type": "code",
   "execution_count": 2,
   "metadata": {},
   "outputs": [
    {
     "name": "stdout",
     "output_type": "stream",
     "text": [
      "Vecteurs de bases du réseau direct (en Angstrom) :\n",
      "a =  3.67683098\n",
      "b =  3.6768305347749344\n",
      "c =  6.41565245\n"
     ]
    }
   ],
   "source": [
    "print(r\"Vecteurs de bases du réseau direct (en Angstrom) :\")\n",
    "abc = struct.lattice.abc\n",
    "print(\"a = \",abc[0])\n",
    "print(\"b = \",abc[1])\n",
    "print(\"c = \",abc[2])"
   ]
  },
  {
   "cell_type": "code",
   "execution_count": 3,
   "metadata": {},
   "outputs": [
    {
     "name": "stdout",
     "output_type": "stream",
     "text": [
      "Vecteurs de bases du réseau réciproque (en Angstrom) :\n",
      "a =  1.9732203599359681\n",
      "b =  1.9732205988719635\n",
      "c =  0.979352506412592\n"
     ]
    }
   ],
   "source": [
    "print(\"Vecteurs de bases du réseau réciproque (en Angstrom) :\")\n",
    "abcr = struct.lattice.reciprocal_lattice.abc\n",
    "print(\"a = \",abcr[0])\n",
    "print(\"b = \",abcr[1])\n",
    "print(\"c = \",abcr[2])"
   ]
  },
  {
   "cell_type": "code",
   "execution_count": 4,
   "metadata": {},
   "outputs": [
    {
     "name": "stdout",
     "output_type": "stream",
     "text": [
      "Type de maille :\n",
      "hexagonal\n"
     ]
    }
   ],
   "source": [
    "print(\"Type de maille :\")\n",
    "latt = SpacegroupAnalyzer(struct).get_lattice_type()\n",
    "print(latt[:])"
   ]
  },
  {
   "cell_type": "code",
   "execution_count": 5,
   "metadata": {},
   "outputs": [
    {
     "name": "stdout",
     "output_type": "stream",
     "text": [
      "Système cristallin :\n",
      "trigonal\n"
     ]
    }
   ],
   "source": [
    "print(\"Système cristallin :\")\n",
    "syst = SpacegroupAnalyzer(struct).get_crystal_system()\n",
    "print(syst[:])"
   ]
  },
  {
   "cell_type": "code",
   "execution_count": 6,
   "metadata": {},
   "outputs": [
    {
     "name": "stdout",
     "output_type": "stream",
     "text": [
      "Groupe ponctuel :\n",
      "-3m\n"
     ]
    }
   ],
   "source": [
    "print(\"Groupe ponctuel :\")\n",
    "point = SpacegroupAnalyzer(struct).get_point_group_symbol()\n",
    "print(point)"
   ]
  }
 ],
 "metadata": {
  "kernelspec": {
   "display_name": "Python 3",
   "language": "python",
   "name": "python3"
  },
  "language_info": {
   "codemirror_mode": {
    "name": "ipython",
    "version": 3
   },
   "file_extension": ".py",
   "mimetype": "text/x-python",
   "name": "python",
   "nbconvert_exporter": "python",
   "pygments_lexer": "ipython3",
   "version": "3.6.8"
  }
 },
 "nbformat": 4,
 "nbformat_minor": 2
}
