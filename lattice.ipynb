{
 "cells": [
  {
   "cell_type": "code",
   "execution_count": 21,
   "metadata": {},
   "outputs": [],
   "source": [
    "from pymatgen.ext.matproj import MPRester\n",
    "from pymatgen.symmetry.analyzer import SpacegroupAnalyzer\n",
    "\n",
    "with MPRester(\"qpcDzlSRWPfs7J19\") as m:\n",
    "\n",
    "    struct = m.get_structure_by_material_id(\"mp-570259\")"
   ]
  },
  {
   "cell_type": "code",
   "execution_count": 22,
   "metadata": {},
   "outputs": [
    {
     "name": "stdout",
     "output_type": "stream",
     "text": [
      "Vecteurs de bases du réseau direct :\n",
      " \n",
      "3.676831 0.000000 0.000000\n",
      "-1.838415 3.184229 0.000000\n",
      "0.000000 0.000000 6.415652\n",
      " \n",
      "Longueurs (en Angstrom) :\n",
      " \n",
      "a =  3.67683098\n",
      "b =  3.6768305347749344\n",
      "c =  6.41565245\n",
      " \n",
      "Angles (en degrés) :\n",
      " \n",
      "alpha =  90.0\n",
      "beta =  90.0\n",
      "gamma =  120.00000400560396\n"
     ]
    }
   ],
   "source": [
    "print(\"Vecteurs de bases du réseau direct :\")\n",
    "print(\" \")\n",
    "vect = struct.lattice\n",
    "abc = vect.abc\n",
    "angle = vect.angles\n",
    "print(vect)\n",
    "print(\" \")\n",
    "print(\"Longueurs (en Angstrom) :\")\n",
    "print(\" \")\n",
    "print(\"a = \",abc[0])\n",
    "print(\"b = \",abc[1])\n",
    "print(\"c = \",abc[2])\n",
    "print(\" \")\n",
    "print(\"Angles (en degrés) :\")\n",
    "print(\" \")\n",
    "print(\"alpha = \",angle[0])\n",
    "print(\"beta = \",angle[1])\n",
    "print(\"gamma = \",angle[2])"
   ]
  },
  {
   "cell_type": "code",
   "execution_count": 23,
   "metadata": {},
   "outputs": [
    {
     "name": "stdout",
     "output_type": "stream",
     "text": [
      "Vecteurs de bases du réseau réciproque :\n",
      " \n",
      "3.676831 0.000000 0.000000\n",
      "-1.838415 3.184229 0.000000\n",
      "0.000000 0.000000 6.415652\n",
      " \n",
      "Longueurs (en Angstrom) :\n",
      " \n",
      "a =  1.9732203599359681\n",
      "b =  1.9732205988719635\n",
      "c =  0.979352506412592\n",
      " \n",
      "Angles (en degrés) :\n",
      " \n",
      "alpha =  90.0\n",
      "beta =  90.0\n",
      "gamma =  59.999995994396045\n"
     ]
    }
   ],
   "source": [
    "print(\"Vecteurs de bases du réseau réciproque :\")\n",
    "print(\" \")\n",
    "vect_r = struct.lattice.reciprocal_lattice\n",
    "abc_r = vect_r.abc\n",
    "angle_r = vect_r.angles\n",
    "print(vect)\n",
    "print(\" \")\n",
    "print(\"Longueurs (en Angstrom) :\")\n",
    "print(\" \")\n",
    "print(\"a = \",abc_r[0])\n",
    "print(\"b = \",abc_r[1])\n",
    "print(\"c = \",abc_r[2])\n",
    "print(\" \")\n",
    "print(\"Angles (en degrés) :\")\n",
    "print(\" \")\n",
    "print(\"alpha = \",angle_r[0])\n",
    "print(\"beta = \",angle_r[1])\n",
    "print(\"gamma = \",angle_r[2])"
   ]
  },
  {
   "cell_type": "code",
   "execution_count": 24,
   "metadata": {},
   "outputs": [
    {
     "name": "stdout",
     "output_type": "stream",
     "text": [
      "Type de maille :\n",
      " \n",
      "hexagonal\n"
     ]
    }
   ],
   "source": [
    "print(\"Type de maille :\")\n",
    "print(\" \")\n",
    "latt = SpacegroupAnalyzer(struct).get_lattice_type()\n",
    "print(latt[:])"
   ]
  },
  {
   "cell_type": "code",
   "execution_count": 25,
   "metadata": {},
   "outputs": [
    {
     "name": "stdout",
     "output_type": "stream",
     "text": [
      "Système cristallin :\n",
      " \n",
      "trigonal\n"
     ]
    }
   ],
   "source": [
    "print(\"Système cristallin :\")\n",
    "print(\" \")\n",
    "syst = SpacegroupAnalyzer(struct).get_crystal_system()\n",
    "print(syst[:])"
   ]
  },
  {
   "cell_type": "code",
   "execution_count": 26,
   "metadata": {},
   "outputs": [
    {
     "name": "stdout",
     "output_type": "stream",
     "text": [
      "Groupe ponctuel :\n",
      " \n",
      "-3m\n"
     ]
    }
   ],
   "source": [
    "print(\"Groupe ponctuel :\")\n",
    "print(\" \")\n",
    "point = SpacegroupAnalyzer(struct).get_point_group_symbol()\n",
    "print(point)"
   ]
  }
 ],
 "metadata": {
  "kernelspec": {
   "display_name": "Python 3",
   "language": "python",
   "name": "python3"
  },
  "language_info": {
   "codemirror_mode": {
    "name": "ipython",
    "version": 3
   },
   "file_extension": ".py",
   "mimetype": "text/x-python",
   "name": "python",
   "nbconvert_exporter": "python",
   "pygments_lexer": "ipython3",
   "version": "3.6.8"
  }
 },
 "nbformat": 4,
 "nbformat_minor": 2
}
